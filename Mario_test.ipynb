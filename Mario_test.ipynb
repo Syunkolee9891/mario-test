{
  "nbformat": 4,
  "nbformat_minor": 0,
  "metadata": {
    "accelerator": "GPU",
    "colab": {
      "name": "Mario-test.ipynb",
      "provenance": [],
      "collapsed_sections": [],
      "include_colab_link": true
    },
    "kernelspec": {
      "display_name": "Python 3",
      "name": "python3"
    }
  },
  "cells": [
    {
      "cell_type": "markdown",
      "metadata": {
        "id": "view-in-github",
        "colab_type": "text"
      },
      "source": [
        "<a href=\"https://colab.research.google.com/github/Syunkolee9891/mario-test/blob/master/Mario_test.ipynb\" target=\"_parent\"><img src=\"https://colab.research.google.com/assets/colab-badge.svg\" alt=\"Open In Colab\"/></a>"
      ]
    },
    {
      "cell_type": "markdown",
      "metadata": {
        "id": "ZEFqFFE-xtFz"
      },
      "source": [
        "# 前準備\n",
        "\n",
        "まずはGoogle Colabの環境を確認します."
      ]
    },
    {
      "cell_type": "markdown",
      "metadata": {
        "id": "1b43eizmka5w"
      },
      "source": [
        "## 環境の確認\n",
        "\n",
        "上のメニューの「ランタイム」から\n",
        "\n",
        "* 「ランタイムのタイプを変更」\n",
        "\n",
        "を選んでハードウェアアクセラレータに\n",
        "\n",
        "* 「GPU」\n",
        "\n",
        "が選ばれていることを確認してください."
      ]
    },
    {
      "cell_type": "code",
      "metadata": {
        "id": "PgAeG7Lwf5VG"
      },
      "source": [
        "# 環境の確認\n",
        "!echo -- OS --\n",
        "!cat /etc/os-release | grep -e ^VERSION= -e ^NAME=\n",
        "!echo\n",
        "!echo -- python --\n",
        "!echo python version: `python --version`\n",
        "!echo\n",
        "!echo -- GPU --\n",
        "!nvidia-smi"
      ],
      "execution_count": null,
      "outputs": []
    },
    {
      "cell_type": "markdown",
      "metadata": {
        "id": "REQe8AT2l8su"
      },
      "source": [
        "## Google Driveのマウント\n",
        "\n",
        "次に, Google Driveをマウントします.\n",
        "\n",
        "12時間以上使うとランタイム上のデータごと消えてしまうのでGoogle Drive上にデータを保存し, 学習データ等を保存していきます."
      ]
    },
    {
      "cell_type": "code",
      "metadata": {
        "id": "9t4P7syt1C1D"
      },
      "source": [
        "# Google Driveのマウント\n",
        "from google.colab import drive\n",
        "drive.mount('/content/drive')"
      ],
      "execution_count": null,
      "outputs": []
    },
    {
      "cell_type": "markdown",
      "metadata": {
        "id": "tsrqdpQfmk6i"
      },
      "source": [
        "## ユーティリティの準備\n",
        "\n",
        "今後コマンド等を実行する際に必要な細々とした変数や関数を定義します."
      ]
    },
    {
      "cell_type": "code",
      "metadata": {
        "id": "6GcKhy9w2Nls"
      },
      "source": [
        "# ユーティリティ関数等の定義\n",
        "import os\n",
        "DFL_BASE_DIR = \"/content/drive/My Drive/DFL\"\n",
        "DFLL_DIR = DFL_BASE_DIR + \"/DeepFaceLab_Linux\"\n",
        "DFL_DIR = DFLL_DIR + \"/DeepFaceLab\"\n",
        "SCRIPTS_DIR = DFLL_DIR + \"/scripts\"\n",
        "\n",
        "!if [ ! -d \"{DFL_BASE_DIR}\" ]; then mkdir \"{DFL_BASE_DIR}\"; fi\n",
        "\n",
        "def run_script(script_name):\n",
        "    os.chdir(SCRIPTS_DIR)\n",
        "    !bash {script_name}"
      ],
      "execution_count": null,
      "outputs": []
    },
    {
      "cell_type": "markdown",
      "metadata": {
        "id": "CN--sukCm2Ux"
      },
      "source": [
        "上で定義した変数はpython上での変数ですが, `!pwd` のようなシェルコマンドの実行時には `{` と `}` で括ると使うことが出来ます."
      ]
    },
    {
      "cell_type": "code",
      "metadata": {
        "id": "u84vv6jnejNl"
      },
      "source": [
        "print(DFL_BASE_DIR)\n",
        "!echo \"{DFL_BASE_DIR}\""
      ],
      "execution_count": null,
      "outputs": []
    },
    {
      "cell_type": "markdown",
      "metadata": {
        "id": "SR0xOMMPnNkR"
      },
      "source": [
        "## ソースコードのダウンロード（クローン）\n",
        "\n",
        "次に, [**iperov/DeepFaceLab**](https://github.com/iperov/DeepFaceLab) のソースコードをgitでGoogle Drive上に保存します.\n",
        "\n",
        "**DeepFaceLab** はWindows環境を想定して作られているので今回は [**nagadit/DeepFaceLab_Linux**](https://github.com/nagadit/DeepFaceLab_Linux) という [nagadit](https://github.com/nagadit) 氏が移植してくれたシェルスクリプト群をフォークしてGoogle Colab用にほんの少しだけカスタムしたもの ([2bbb/DeepFaceLab_Linux](https://github.com/2bbb/DeepFaceLab_Linux)) を使います.\n",
        "\n"
      ]
    },
    {
      "cell_type": "code",
      "metadata": {
        "id": "VxtPlwzbgnkE"
      },
      "source": [
        "# git clone (Google Driveに保存するので1度だけでOK)\n",
        "!if [ ! -d \"{DFLL_DIR}\" ]; then git clone -b colab --recursive https://github.com/2bbb/DeepFaceLab_Linux.git \"{DFLL_DIR}\" ; else echo \"Already cloned\" ; fi\n",
        "!if [ ! -d \"{DFLL_DIR}/workspace\" ]; then mkdir \"{DFLL_DIR}/workspace\" ; fi"
      ],
      "execution_count": null,
      "outputs": []
    },
    {
      "cell_type": "code",
      "metadata": {
        "id": "nyq7GQVWrGvZ"
      },
      "source": [
        "# git cloneの結果の確認\n",
        "!echo -- DeepFaceLab_Linux --\n",
        "!ls \"{DFLL_DIR}\"\n",
        "!echo\n",
        "!echo -- DeepFaceLab --\n",
        "!ls \"{DFL_DIR}\""
      ],
      "execution_count": null,
      "outputs": []
    },
    {
      "cell_type": "markdown",
      "metadata": {
        "id": "1mLz_zAepXzV"
      },
      "source": [
        "コードがDFL上に保存出来たら DeepFaceLab に必要なpythonモジュールをインストールします.\n",
        "\n",
        "Google ColabのデフォルトのtensorflowのバージョンがDFLの必要とするバージョンよりだいぶ高いのでアンインストールしてから他の依存モジュールをインストールします."
      ]
    },
    {
      "cell_type": "code",
      "metadata": {
        "id": "omD7ppzNpBGw"
      },
      "source": [
        "# pythonのモジュールのインストール (ランタイムが変わるたびに必要)\n",
        "!pip uninstall --yes tensorflow \n",
        "!python -m pip install -r \"{DFL_DIR}/requirements-colab.txt\""
      ],
      "execution_count": null,
      "outputs": []
    },
    {
      "cell_type": "code",
      "metadata": {
        "id": "WFke3v8nz-C8"
      },
      "source": [
        "# tensorflowの確認\n",
        "!pip freeze | grep tensorflow"
      ],
      "execution_count": null,
      "outputs": []
    },
    {
      "cell_type": "markdown",
      "metadata": {
        "id": "6vKaZh89qGdq"
      },
      "source": [
        "諸々の依存関係が解決出来たところでtensorflowでGPUがきちんと使えるか確認します."
      ]
    },
    {
      "cell_type": "code",
      "metadata": {
        "id": "rfOPpCfV0KVB"
      },
      "source": [
        "# tensorflow-gpu の動作確認\n",
        "from tensorflow.python.client import device_lib\n",
        "device_lib.list_local_devices()"
      ],
      "execution_count": null,
      "outputs": []
    },
    {
      "cell_type": "markdown",
      "metadata": {
        "id": "V5TALB0qyEHz"
      },
      "source": [
        "\n",
        "これで環境構築は終了です.\n"
      ]
    },
    {
      "cell_type": "markdown",
      "metadata": {
        "id": "Wqi2epA3yJis"
      },
      "source": [
        "# DeepFaceLabを動かしてみる"
      ]
    },
    {
      "cell_type": "markdown",
      "metadata": {
        "id": "yrMckP7fhRFJ"
      },
      "source": [
        "## 動画のアップロード\n",
        "\n",
        "ここから実際にDFLを動かしていきます.\n",
        "\n",
        "まずは5〜10秒程度の人の顔が映った動画を2つ準備します.\n",
        "\n",
        "一つは顔が変化する対象の動画で, もう一つは実際に合成される顔の元になる動画です.\n",
        "\n",
        "* 前者を `data_dst.mp4` or `data_dst.mov`\n",
        "* 後者を `data_src.mp4` or `data_src.mov`\n",
        "\n",
        "と名前を付けて Google Drive のマイドライブ内に作られた `DFL/DeepFaceLab_Linux/workspace` ディレクトリの中にアップロードしてください."
      ]
    },
    {
      "cell_type": "markdown",
      "metadata": {
        "id": "LaS-ne3kstFT"
      },
      "source": [
        "## 動画から連番画像への変換\n",
        "\n",
        "アップロードが完了したら実際に処理に移っていきます.\n",
        "\n",
        "今回は `DeepFaceLab_Linux/scripts` 内にあるシェルスクリプトを使って実行していきます.\n",
        "\n",
        "（このシェルスクリプト群は煩雑になりがちなpythonのスクリプト実行に必要な引数を与えて実行するだけのものなので興味がある人は中身を覗いてみると何が行われているかの理解に役立つかもしれません.）"
      ]
    },
    {
      "cell_type": "markdown",
      "metadata": {
        "id": "Xv9dM6JmtNFB"
      },
      "source": [
        "まずは `data_src.*` と `data_dst.*` を連番の画像に変換します.\n",
        "\n",
        "以下のスクリプトを実行すると ffmpeg を使って変換が行われます."
      ]
    },
    {
      "cell_type": "code",
      "metadata": {
        "id": "mCn8KSqg61Wr"
      },
      "source": [
        "# data_src.mov/mp4 を連番画像に展開\n",
        "run_script(\"2_extract_image_from_data_src.sh\")"
      ],
      "execution_count": null,
      "outputs": []
    },
    {
      "cell_type": "code",
      "metadata": {
        "id": "X2a_-NJUD3xf"
      },
      "source": [
        "# data_dst.mov/mp4 を連番画像に展開\n",
        "run_script(\"3_extract_image_from_data_dst.sh\")"
      ],
      "execution_count": null,
      "outputs": []
    },
    {
      "cell_type": "markdown",
      "metadata": {
        "id": "Pt2tkGfawbpK"
      },
      "source": [
        "## 連番画像からの顔の抽出\n",
        "\n",
        "次に, 書き出した連番画像からそれぞれの顔の部分を抽出します."
      ]
    },
    {
      "cell_type": "code",
      "metadata": {
        "id": "_adNnuPVFwwg"
      },
      "source": [
        "# srcの連番画像から顔を抽出\n",
        "run_script(\"4_data_src_extract_faces_S3FD.sh\")"
      ],
      "execution_count": null,
      "outputs": []
    },
    {
      "cell_type": "code",
      "metadata": {
        "id": "mGkB1BuAHfJX"
      },
      "source": [
        "# dstの連番画像から顔を抽出\n",
        "run_script(\"5_data_dst_extract_faces_S3FD.sh\")"
      ],
      "execution_count": null,
      "outputs": []
    },
    {
      "cell_type": "markdown",
      "metadata": {
        "id": "HYKrpWipzA35"
      },
      "source": [
        "## 抽出した顔の選別準備\n",
        "\n",
        "上で抽出した顔はかなり精度が良いとはいえ偶に顔じゃ無いものを認識してしまったりするのでそういったデータは手動で削除します.\n",
        "\n",
        "その際に, 適当な特徴量でソートしてあげることによって変なデータを見つけやすくするのが以下のスクリプトです."
      ]
    },
    {
      "cell_type": "code",
      "metadata": {
        "id": "SDVwo7QkHxmU"
      },
      "source": [
        "# srcの連番画像をソート\n",
        "run_script(\"4.2_data_src_sort.sh\")"
      ],
      "execution_count": null,
      "outputs": []
    },
    {
      "cell_type": "code",
      "metadata": {
        "id": "c-KNeOBoH4sH"
      },
      "source": [
        "# dstの連番画像をソート\n",
        "run_script(\"5.2_data_dst_sort.sh\")"
      ],
      "execution_count": null,
      "outputs": []
    },
    {
      "cell_type": "markdown",
      "metadata": {
        "id": "7OiTosluz0Ku"
      },
      "source": [
        "## 抽出した顔の選別作業\n",
        "\n",
        "Google Driveの `workspace/data_src/aligned/` と `workspace/data_dst/aligned/` ディレクトリに入っている画像を見てみましょう.\n",
        "\n",
        "なんとなく似た順で並んでいるのが分かるかと思います. そして番号が大きい程変なデータになることが多いです.\n",
        "\n",
        "ざっくり, 眺めつつ明らかに変なデータは削除しましょう.\n",
        "\n",
        "この際, `data_dst` 側は誤検出以外は残していても大丈夫ですが `data_src` はなんとなくそれを使っても良い精度にならなそうな顔が欠けてしまっている画像等は容赦無く削除して良いと思います."
      ]
    },
    {
      "cell_type": "markdown",
      "metadata": {
        "id": "799bKMdx1v6C"
      },
      "source": [
        "## 学習開始\n",
        "\n",
        "環境構築が前準備でDFL動かし始めても前準備でしたがついに学習の開始になります.\n",
        "\n",
        "今回は取り敢えずGoogle Colabで動いて尚且つ短期間でなんとなく顔が合成されていくのが分かるような設定を目指します.\n",
        "\n",
        "パラメータがたくさんありますが興味があって今後自分でやってみようという人は調べると様々な情報が出てくるので参考にしてみてください.\n"
      ]
    },
    {
      "cell_type": "code",
      "metadata": {
        "id": "rH9dbWtnIBE_"
      },
      "source": [
        "# 学習開始\n",
        "run_script(\"6_train_SAEHD_no_preview.sh\")"
      ],
      "execution_count": null,
      "outputs": []
    },
    {
      "cell_type": "markdown",
      "metadata": {
        "id": "70e4txDD2pG-"
      },
      "source": [
        "## 待つ\n",
        "\n",
        "これがうまく動けばあとはひたすら待つ時間になります.\n",
        "\n",
        "エラーが出て動かなかった人は恐らくメモリに載っていないのでバッチサイズを下げてみたり解像度を下げてみたりしてリトライしましょう.\n",
        "\n",
        "途中経過は `workspace/model/****_SAEHD_history` 内で確認出来ます."
      ]
    },
    {
      "cell_type": "markdown",
      "metadata": {
        "id": "9IxtkjkX3fw9"
      },
      "source": [
        "## 合成処理\n",
        "\n",
        "ワクワクしながら待ったところで結果を見ていきましょう.\n",
        "\n",
        "まずは現在のモデルを使って合成結果の連番画像を生成します."
      ]
    },
    {
      "cell_type": "code",
      "metadata": {
        "id": "IJR4EGrvO0pu"
      },
      "source": [
        "# 合成処理\n",
        "run_script(\"7_merge_SAEHD.sh\")"
      ],
      "execution_count": null,
      "outputs": []
    },
    {
      "cell_type": "markdown",
      "metadata": {
        "id": "G-PTz5Wg34W4"
      },
      "source": [
        "## 動画書き出し\n",
        "\n",
        "上で生成された連番画像を ffmpeg を使って動画にします.\n",
        "\n",
        "書き出しフォーマットも色々あるので気になる人は `DeepFaceLab_Linux/scripts` の中を覗いてみてください."
      ]
    },
    {
      "cell_type": "code",
      "metadata": {
        "id": "6nn7SmlmUhxz"
      },
      "source": [
        "# 動画書き出し\n",
        "run_script(\"8_merged_to_mp4.sh\")"
      ],
      "execution_count": null,
      "outputs": []
    },
    {
      "cell_type": "markdown",
      "metadata": {
        "id": "wG-STSg342p-"
      },
      "source": [
        "## 学習, 学習, 学習\n",
        "\n",
        "DeepFaceLab はきちんとしたリジューム機能が実装されているので一度確認した後にまた学習を始めることも簡単です.\n",
        "\n",
        "設定が良い感じだと思えば前回の設定を引き継ぐことも出来ます.\n",
        "\n",
        "もし, パラメータを変えたい場合は最初と同様1つずつ選んでいくこととなりますが, 解像度や学習するの顔のタイプ等, 途中からでは変更出来ないパラメータもありますので注意が必要です."
      ]
    },
    {
      "cell_type": "code",
      "metadata": {
        "id": "_YrFM3Zf5JY2"
      },
      "source": [
        "# 再び学習開始\n",
        "run_script(\"6_train_SAEHD_no_preview.sh\")"
      ],
      "execution_count": null,
      "outputs": []
    }
  ]
}